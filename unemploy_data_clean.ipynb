{
 "cells": [
  {
   "cell_type": "code",
   "execution_count": 1,
   "id": "ba39271e",
   "metadata": {},
   "outputs": [],
   "source": [
    "#conda environment 'unemploy'\n",
    "import pandas as pd"
   ]
  },
  {
   "cell_type": "code",
   "execution_count": 5,
   "id": "0d79186a",
   "metadata": {},
   "outputs": [
    {
     "data": {
      "text/html": [
       "<div>\n",
       "<style scoped>\n",
       "    .dataframe tbody tr th:only-of-type {\n",
       "        vertical-align: middle;\n",
       "    }\n",
       "\n",
       "    .dataframe tbody tr th {\n",
       "        vertical-align: top;\n",
       "    }\n",
       "\n",
       "    .dataframe thead th {\n",
       "        text-align: right;\n",
       "    }\n",
       "</style>\n",
       "<table border=\"1\" class=\"dataframe\">\n",
       "  <thead>\n",
       "    <tr style=\"text-align: right;\">\n",
       "      <th></th>\n",
       "      <th>Year</th>\n",
       "      <th>Month</th>\n",
       "      <th>State</th>\n",
       "      <th>County</th>\n",
       "      <th>Rate</th>\n",
       "    </tr>\n",
       "  </thead>\n",
       "  <tbody>\n",
       "    <tr>\n",
       "      <th>0</th>\n",
       "      <td>2015</td>\n",
       "      <td>February</td>\n",
       "      <td>Mississippi</td>\n",
       "      <td>Newton County</td>\n",
       "      <td>6.1</td>\n",
       "    </tr>\n",
       "    <tr>\n",
       "      <th>1</th>\n",
       "      <td>2015</td>\n",
       "      <td>February</td>\n",
       "      <td>Mississippi</td>\n",
       "      <td>Panola County</td>\n",
       "      <td>9.4</td>\n",
       "    </tr>\n",
       "    <tr>\n",
       "      <th>2</th>\n",
       "      <td>2015</td>\n",
       "      <td>February</td>\n",
       "      <td>Mississippi</td>\n",
       "      <td>Monroe County</td>\n",
       "      <td>7.9</td>\n",
       "    </tr>\n",
       "    <tr>\n",
       "      <th>3</th>\n",
       "      <td>2015</td>\n",
       "      <td>February</td>\n",
       "      <td>Mississippi</td>\n",
       "      <td>Hinds County</td>\n",
       "      <td>6.1</td>\n",
       "    </tr>\n",
       "    <tr>\n",
       "      <th>4</th>\n",
       "      <td>2015</td>\n",
       "      <td>February</td>\n",
       "      <td>Mississippi</td>\n",
       "      <td>Kemper County</td>\n",
       "      <td>10.6</td>\n",
       "    </tr>\n",
       "  </tbody>\n",
       "</table>\n",
       "</div>"
      ],
      "text/plain": [
       "   Year     Month        State         County  Rate\n",
       "0  2015  February  Mississippi  Newton County   6.1\n",
       "1  2015  February  Mississippi  Panola County   9.4\n",
       "2  2015  February  Mississippi  Monroe County   7.9\n",
       "3  2015  February  Mississippi   Hinds County   6.1\n",
       "4  2015  February  Mississippi  Kemper County  10.6"
      ]
     },
     "execution_count": 5,
     "metadata": {},
     "output_type": "execute_result"
    }
   ],
   "source": [
    "#data from:\n",
    "#https://www.kaggle.com/jayrav13/unemployment-by-county-us\n",
    "unemploy_df=pd.read_csv(\"data/output.csv\")\n",
    "unemploy_df.head()"
   ]
  },
  {
   "cell_type": "code",
   "execution_count": 9,
   "id": "1da4a1f7",
   "metadata": {},
   "outputs": [
    {
     "data": {
      "text/plain": [
       "array([2015, 2014, 2016, 2011, 2010, 2013, 2012, 1991, 1990, 1993, 1992,\n",
       "       1995, 1994, 1997, 1996, 1999, 1998, 2002, 2003, 2000, 2001, 2006,\n",
       "       2007, 2004, 2005, 2008, 2009])"
      ]
     },
     "execution_count": 9,
     "metadata": {},
     "output_type": "execute_result"
    }
   ],
   "source": [
    "#find the time range\n",
    "unemploy_df.Year.unique()"
   ]
  },
  {
   "cell_type": "code",
   "execution_count": 20,
   "id": "012d8f96",
   "metadata": {},
   "outputs": [
    {
     "data": {
      "text/html": [
       "<div>\n",
       "<style scoped>\n",
       "    .dataframe tbody tr th:only-of-type {\n",
       "        vertical-align: middle;\n",
       "    }\n",
       "\n",
       "    .dataframe tbody tr th {\n",
       "        vertical-align: top;\n",
       "    }\n",
       "\n",
       "    .dataframe thead th {\n",
       "        text-align: right;\n",
       "    }\n",
       "</style>\n",
       "<table border=\"1\" class=\"dataframe\">\n",
       "  <thead>\n",
       "    <tr style=\"text-align: right;\">\n",
       "      <th></th>\n",
       "      <th>Year</th>\n",
       "      <th>Month</th>\n",
       "      <th>State</th>\n",
       "      <th>County</th>\n",
       "      <th>Rate</th>\n",
       "    </tr>\n",
       "  </thead>\n",
       "  <tbody>\n",
       "    <tr>\n",
       "      <th>91446</th>\n",
       "      <td>2016</td>\n",
       "      <td>April</td>\n",
       "      <td>Wyoming</td>\n",
       "      <td>Platte County</td>\n",
       "      <td>4.8</td>\n",
       "    </tr>\n",
       "    <tr>\n",
       "      <th>77136</th>\n",
       "      <td>2016</td>\n",
       "      <td>August</td>\n",
       "      <td>Wyoming</td>\n",
       "      <td>Converse County</td>\n",
       "      <td>6.0</td>\n",
       "    </tr>\n",
       "    <tr>\n",
       "      <th>77137</th>\n",
       "      <td>2016</td>\n",
       "      <td>August</td>\n",
       "      <td>Wyoming</td>\n",
       "      <td>Sublette County</td>\n",
       "      <td>5.4</td>\n",
       "    </tr>\n",
       "    <tr>\n",
       "      <th>91449</th>\n",
       "      <td>2016</td>\n",
       "      <td>April</td>\n",
       "      <td>Wyoming</td>\n",
       "      <td>Sheridan County</td>\n",
       "      <td>4.8</td>\n",
       "    </tr>\n",
       "    <tr>\n",
       "      <th>91439</th>\n",
       "      <td>2016</td>\n",
       "      <td>April</td>\n",
       "      <td>Wyoming</td>\n",
       "      <td>Converse County</td>\n",
       "      <td>6.5</td>\n",
       "    </tr>\n",
       "    <tr>\n",
       "      <th>...</th>\n",
       "      <td>...</td>\n",
       "      <td>...</td>\n",
       "      <td>...</td>\n",
       "      <td>...</td>\n",
       "      <td>...</td>\n",
       "    </tr>\n",
       "    <tr>\n",
       "      <th>272516</th>\n",
       "      <td>1990</td>\n",
       "      <td>February</td>\n",
       "      <td>Alabama</td>\n",
       "      <td>Cleburne County</td>\n",
       "      <td>6.7</td>\n",
       "    </tr>\n",
       "    <tr>\n",
       "      <th>272513</th>\n",
       "      <td>1990</td>\n",
       "      <td>February</td>\n",
       "      <td>Alabama</td>\n",
       "      <td>Tuscaloosa County</td>\n",
       "      <td>10.8</td>\n",
       "    </tr>\n",
       "    <tr>\n",
       "      <th>272493</th>\n",
       "      <td>1990</td>\n",
       "      <td>February</td>\n",
       "      <td>Alabama</td>\n",
       "      <td>Macon County</td>\n",
       "      <td>9.1</td>\n",
       "    </tr>\n",
       "    <tr>\n",
       "      <th>272497</th>\n",
       "      <td>1990</td>\n",
       "      <td>February</td>\n",
       "      <td>Alabama</td>\n",
       "      <td>Cherokee County</td>\n",
       "      <td>7.8</td>\n",
       "    </tr>\n",
       "    <tr>\n",
       "      <th>272482</th>\n",
       "      <td>1990</td>\n",
       "      <td>February</td>\n",
       "      <td>Alabama</td>\n",
       "      <td>Geneva County</td>\n",
       "      <td>4.8</td>\n",
       "    </tr>\n",
       "  </tbody>\n",
       "</table>\n",
       "<p>885548 rows × 5 columns</p>\n",
       "</div>"
      ],
      "text/plain": [
       "        Year     Month    State             County  Rate\n",
       "91446   2016     April  Wyoming      Platte County   4.8\n",
       "77136   2016    August  Wyoming    Converse County   6.0\n",
       "77137   2016    August  Wyoming    Sublette County   5.4\n",
       "91449   2016     April  Wyoming    Sheridan County   4.8\n",
       "91439   2016     April  Wyoming    Converse County   6.5\n",
       "...      ...       ...      ...                ...   ...\n",
       "272516  1990  February  Alabama    Cleburne County   6.7\n",
       "272513  1990  February  Alabama  Tuscaloosa County  10.8\n",
       "272493  1990  February  Alabama       Macon County   9.1\n",
       "272497  1990  February  Alabama    Cherokee County   7.8\n",
       "272482  1990  February  Alabama      Geneva County   4.8\n",
       "\n",
       "[885548 rows x 5 columns]"
      ]
     },
     "execution_count": 20,
     "metadata": {},
     "output_type": "execute_result"
    }
   ],
   "source": [
    "#arrange db by year then state\n",
    "unemploy_df.sort_values(by=[\"Year\",\"State\"],ascending=False,inplace=True)\n",
    "#unemploy_df.sort_values(by=[\"State\"],ascending=False,inplace=True)\n",
    "unemploy_df"
   ]
  },
  {
   "cell_type": "code",
   "execution_count": 21,
   "id": "f142493f",
   "metadata": {},
   "outputs": [
    {
     "data": {
      "text/plain": [
       "6.175009711500675"
      ]
     },
     "execution_count": 21,
     "metadata": {},
     "output_type": "execute_result"
    }
   ],
   "source": [
    "unemploy_df.Rate.mean()"
   ]
  },
  {
   "cell_type": "code",
   "execution_count": null,
   "id": "33f3c848",
   "metadata": {},
   "outputs": [],
   "source": []
  }
 ],
 "metadata": {
  "kernelspec": {
   "display_name": "Python [conda env:unemploy] *",
   "language": "python",
   "name": "conda-env-unemploy-py"
  },
  "language_info": {
   "codemirror_mode": {
    "name": "ipython",
    "version": 3
   },
   "file_extension": ".py",
   "mimetype": "text/x-python",
   "name": "python",
   "nbconvert_exporter": "python",
   "pygments_lexer": "ipython3",
   "version": "3.6.13"
  }
 },
 "nbformat": 4,
 "nbformat_minor": 5
}
